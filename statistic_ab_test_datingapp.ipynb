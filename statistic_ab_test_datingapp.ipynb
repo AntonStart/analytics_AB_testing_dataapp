{
 "cells": [
  {
   "cell_type": "code",
   "execution_count": 1,
   "metadata": {},
   "outputs": [],
   "source": [
    "import pandas as pd\n",
    "import seaborn as sns\n",
    "import numpy as np\n",
    "import scipy.stats as st\n",
    "from scipy.stats import chi2_contingency\n",
    "from scipy.stats import shapiro \n",
    "\n",
    "import statsmodels.formula.api as smf"
   ]
  },
  {
   "cell_type": "code",
   "execution_count": 2,
   "metadata": {},
   "outputs": [
    {
     "data": {
      "text/html": [
       "<div>\n",
       "<style scoped>\n",
       "    .dataframe tbody tr th:only-of-type {\n",
       "        vertical-align: middle;\n",
       "    }\n",
       "\n",
       "    .dataframe tbody tr th {\n",
       "        vertical-align: top;\n",
       "    }\n",
       "\n",
       "    .dataframe thead th {\n",
       "        text-align: right;\n",
       "    }\n",
       "</style>\n",
       "<table border=\"1\" class=\"dataframe\">\n",
       "  <thead>\n",
       "    <tr style=\"text-align: right;\">\n",
       "      <th></th>\n",
       "      <th>user_id_1</th>\n",
       "      <th>user_id_2</th>\n",
       "      <th>group</th>\n",
       "      <th>is_match</th>\n",
       "    </tr>\n",
       "  </thead>\n",
       "  <tbody>\n",
       "    <tr>\n",
       "      <th>0</th>\n",
       "      <td>79</td>\n",
       "      <td>91</td>\n",
       "      <td>1</td>\n",
       "      <td>1</td>\n",
       "    </tr>\n",
       "    <tr>\n",
       "      <th>1</th>\n",
       "      <td>716</td>\n",
       "      <td>353</td>\n",
       "      <td>1</td>\n",
       "      <td>1</td>\n",
       "    </tr>\n",
       "    <tr>\n",
       "      <th>2</th>\n",
       "      <td>423</td>\n",
       "      <td>677</td>\n",
       "      <td>0</td>\n",
       "      <td>0</td>\n",
       "    </tr>\n",
       "    <tr>\n",
       "      <th>3</th>\n",
       "      <td>658</td>\n",
       "      <td>165</td>\n",
       "      <td>1</td>\n",
       "      <td>1</td>\n",
       "    </tr>\n",
       "    <tr>\n",
       "      <th>4</th>\n",
       "      <td>969</td>\n",
       "      <td>155</td>\n",
       "      <td>0</td>\n",
       "      <td>1</td>\n",
       "    </tr>\n",
       "  </tbody>\n",
       "</table>\n",
       "</div>"
      ],
      "text/plain": [
       "   user_id_1  user_id_2  group  is_match\n",
       "0         79         91      1         1\n",
       "1        716        353      1         1\n",
       "2        423        677      0         0\n",
       "3        658        165      1         1\n",
       "4        969        155      0         1"
      ]
     },
     "execution_count": 2,
     "metadata": {},
     "output_type": "execute_result"
    }
   ],
   "source": [
    "#Загрузим данные, посмотрим на содержимое\n",
    "dating_data = pd.read_csv('/mnt/HC_Volume_18315164/home-jupyter/jupyter-a-pozdniakov/statistic/dating_data.csv')\n",
    "dating_data.head()"
   ]
  },
  {
   "cell_type": "code",
   "execution_count": 7,
   "metadata": {},
   "outputs": [
    {
     "name": "stdout",
     "output_type": "stream",
     "text": [
      "размер выборки 0-группы = 4792\n",
      "размер выборки 1-группы = 9722\n",
      "среднее 0-группы = 0.19490818030050083\n",
      "среднее 1-группы = 0.40207776177741206\n",
      "Доверительный интервал 0-группы = (0.18368844847587973, 0.20612791212512194)\n",
      "Доверительный интервал 1-группы = (0.3923295697244652, 0.4118259538303589)\n",
      "ShapiroResult(statistic=0.48412472009658813, pvalue=0.0)\n",
      "ShapiroResult(statistic=0.622529149055481, pvalue=0.0)\n"
     ]
    },
    {
     "name": "stderr",
     "output_type": "stream",
     "text": [
      "/opt/tljh/user/lib/python3.7/site-packages/scipy/stats/morestats.py:1760: UserWarning: p-value may not be accurate for N > 5000.\n",
      "  warnings.warn(\"p-value may not be accurate for N > 5000.\")\n"
     ]
    }
   ],
   "source": [
    "zero_group = dating_data.query('group == 0')\n",
    "first_group = dating_data.query('group == 1')\n",
    "print('размер выборки 0-группы =', zero_group['group'].count())\n",
    "print('размер выборки 1-группы =', first_group['group'].count())\n",
    "print('среднее 0-группы =', zero_group['is_match'].mean())\n",
    "print('среднее 1-группы =', first_group['is_match'].mean())\n",
    "\n",
    "print('Доверительный интервал 0-группы =', st.t.interval(alpha=0.95, df=len(zero_group['is_match'])-1, \n",
    "                                                         loc=np.mean(zero_group['is_match']), \n",
    "                                                         scale=st.sem(zero_group['is_match']))) \n",
    "print('Доверительный интервал 1-группы =', st.t.interval(alpha=0.95, df=len(first_group['is_match'])-1, \n",
    "                                                         loc=np.mean(first_group['is_match']), \n",
    "                                                         scale=st.sem(first_group['is_match'])))\n",
    "print(shapiro(zero_group.is_match))\n",
    "print(shapiro(first_group.is_match))\n",
    "#sns.displot(dating_data, x='is_match', hue='group')"
   ]
  },
  {
   "cell_type": "markdown",
   "metadata": {},
   "source": [
    "У нас есть две группы: 0 группа - со старым алгоритмом подбора, потенциального партнера, и 1 группа - с новым алгоритмом.\n",
    "\n",
    "Примем что идеальный алгоритм - когда match-исход между двумя подобранными друг для друга пользователями случается в 100% \n",
    "случаях, Тогда за конверсию в наших данных можно принять долю положительных match-событий\n",
    "\n",
    "Размер выборки первой группы практически в 2 раза больше чем размер нулевой группы.\n",
    "Среднее первой группы более чем в два раза превышает среднее нулевой группы,\n",
    "а доверительные интервалы выборок с заданной надежностью 95% не пересекаются.\n",
    "\n",
    "На первый взгляд можно сделать очевидный вывод что новый алгоритм значительно улучшает конверсию, это следует из средних\n",
    "по группам\n",
    "\n",
    "Учитывая что в нашем случае is_match принимает всего два значения,то есть является \n",
    "категориальной переменной - для A/B тестирования будем использовать критерий согласия Пирсона(Хи-квадрат).\n",
    "\n",
    "Сформулируем гипотезы, которые будем тестировать:\n",
    "\n",
    "Нулевая гипотеза - распределение(в нашем случае конверсия match-событий) не зависит от группы тестирования\n",
    "Альтернативная гипотеза - распределение match-событий зависит от групп тестирования\n",
    "\n",
    "Для начала анализа основной нашей задачей является преобразование исходных данных в таблицу сопряженности,\n",
    "содержащую номера групп и результатов is_match с разбивкой по количеству удачных и неудачных исходов\n",
    "\n",
    "Наши данные не требуют кодирования фиктивными перемеменными, потому что у нас уже имеется необходимое для анализа поле\n",
    "group, которое содержит всего две группы и удобный для анализа формат(0 и 1)"
   ]
  },
  {
   "cell_type": "code",
   "execution_count": 4,
   "metadata": {},
   "outputs": [],
   "source": [
    "cross_data_from_chi = dating_data.groupby(['group','is_match'], as_index = False) \\\n",
    "                                .agg({'user_id_1':'count'}) \\\n",
    "                                .rename(columns={'user_id_1':'count_events'}) \\\n",
    "                                .pivot_table(index='group', columns='is_match', values='count_events')\n",
    "cross_data_from_chi = cross_data_from_chi.reset_index()[[0,1]].to_numpy()"
   ]
  },
  {
   "cell_type": "code",
   "execution_count": 5,
   "metadata": {},
   "outputs": [
    {
     "name": "stdout",
     "output_type": "stream",
     "text": [
      "T-statistic = 618.6889141576198\n",
      "p-value = 1.4418299163662586e-136\n",
      "The degrees of freedom = 1\n"
     ]
    }
   ],
   "source": [
    "res_statistic, res_pvalue, res_dof, res_expected_freq = chi2_contingency(cross_data_from_chi)\n",
    "print('T-statistic =', res_statistic)\n",
    "print('p-value =', res_pvalue)\n",
    "print('The degrees of freedom =', res_dof)"
   ]
  },
  {
   "cell_type": "code",
   "execution_count": null,
   "metadata": {},
   "outputs": [],
   "source": [
    "По результатам проведенного теста хи-квадрат мы однозначно можем отклонить нулевую гипотезу и сделать вывод:\n",
    "    Конверсия зависит от групп тестирования\n",
    "    \n",
    "Далее мы можем проверить на сколько сильно влияет новый алгоритм на конверсию для наших данных,\n",
    "воспользуемся регрессионным анлизом из библиотеки statsmodels.\n",
    "Зададим в качестве зависимой переменной is_match, а в качестве независимой - group"
   ]
  },
  {
   "cell_type": "code",
   "execution_count": 6,
   "metadata": {},
   "outputs": [
    {
     "name": "stdout",
     "output_type": "stream",
     "text": [
      "                            OLS Regression Results                            \n",
      "==============================================================================\n",
      "Dep. Variable:               is_match   R-squared:                       0.043\n",
      "Model:                            OLS   Adj. R-squared:                  0.043\n",
      "Method:                 Least Squares   F-statistic:                     647.2\n",
      "Date:                Mon, 22 May 2023   Prob (F-statistic):          1.04e-139\n",
      "Time:                        22:36:22   Log-Likelihood:                -9366.5\n",
      "No. Observations:               14514   AIC:                         1.874e+04\n",
      "Df Residuals:                   14512   BIC:                         1.875e+04\n",
      "Df Model:                           1                                         \n",
      "Covariance Type:            nonrobust                                         \n",
      "==============================================================================\n",
      "                 coef    std err          t      P>|t|      [0.025      0.975]\n",
      "------------------------------------------------------------------------------\n",
      "Intercept      0.1949      0.007     29.243      0.000       0.182       0.208\n",
      "group          0.2072      0.008     25.439      0.000       0.191       0.223\n",
      "==============================================================================\n",
      "Omnibus:                   133641.948   Durbin-Watson:                   2.012\n",
      "Prob(Omnibus):                  0.000   Jarque-Bera (JB):             2192.292\n",
      "Skew:                           0.643   Prob(JB):                         0.00\n",
      "Kurtosis:                       1.596   Cond. No.                         3.24\n",
      "==============================================================================\n",
      "\n",
      "Notes:\n",
      "[1] Standard Errors assume that the covariance matrix of the errors is correctly specified.\n"
     ]
    }
   ],
   "source": [
    "results = smf.ols('is_match ~ group', dating_data).fit()\n",
    "print(results.summary())"
   ]
  },
  {
   "cell_type": "markdown",
   "metadata": {},
   "source": [
    "Вывод: Исходя из результатов регрессионного анализа мы видем что в среднем при применении старого алгоритма \n",
    "       Intercept == 0.1949, то есть вероятность match-исхода около 20%\n",
    "       При применении нового алгоритма(в результатах выше - group), вероятность match-исхода увеличивается приблизительно на \n",
    "       21%, то есть вырастает вдвое.\n",
    "       Соответственно рекомендуется безоговорочно выкатить новый алгоритм подбора партнеров на всех пользователей! "
   ]
  }
 ],
 "metadata": {
  "kernelspec": {
   "display_name": "Python 3",
   "language": "python",
   "name": "python3"
  },
  "language_info": {
   "codemirror_mode": {
    "name": "ipython",
    "version": 3
   },
   "file_extension": ".py",
   "mimetype": "text/x-python",
   "name": "python",
   "nbconvert_exporter": "python",
   "pygments_lexer": "ipython3",
   "version": "3.7.3"
  }
 },
 "nbformat": 4,
 "nbformat_minor": 4
}
